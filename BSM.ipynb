{
 "cells": [
  {
   "cell_type": "markdown",
   "metadata": {},
   "source": [
    "# The Black-Scholes option pricing formula for European options"
   ]
  },
  {
   "cell_type": "code",
   "execution_count": null,
   "metadata": {},
   "outputs": [],
   "source": [
    "import numpy as np\n",
    "from scipy.stats import norm\n",
    "import pandas as pd\n",
    "import matplotlib.pyplot as plt\n",
    "%matplotlib notebook\n",
    "import seaborn as sns\n",
    "sns.set()"
   ]
  },
  {
   "cell_type": "markdown",
   "metadata": {},
   "source": [
    "**The BSM equation:**\n",
    "\n",
    "$$\n",
    "\\frac{\\partial V}{\\partial t}+\\frac{1}{2} \\sigma^{2} S^{2} \\frac{\\partial^{2} V}{\\partial S^{2}}+r S \\frac{\\partial V}{\\partial S}-r V=0\n",
    "$$\n",
    "\n",
    "This is the partial differential equation, which governs the price of an option.\n",
    "\n",
    "**Analytical solution of BSM equation:**\n",
    "\n",
    "The value of a call option $c\\left(S_{0}, t\\right)$ can be written in the simplified was a follows\n",
    "$$\n",
    "c\\left(S_{0}, t\\right)=S_{0} N\\left(d_{1}\\right)-K e^{r(T-t)} N\\left(d_{2}\\right)\n",
    "$$\n",
    "with,\n",
    "$$\n",
    "d_{1}=\\frac{\\log \\left(S_{0} / K\\right)+\\left(r+\\frac{1}{2} \\sigma^{2}\\right)(T-t)}{\\sigma \\sqrt{T-t}}\n",
    "$$\n",
    "$$\n",
    "d_{2}=\\frac{\\log \\left(S_{0} / K\\right)+\\left(r-\\frac{1}{2} \\sigma^{2}\\right)(T-t)}{\\sigma \\sqrt{T-t}}=d_{1}-\\sigma \\sqrt{T-t}\n",
    "$$\n",
    "and $N$ is the CDF of standard normal distribution."
   ]
  },
  {
   "cell_type": "code",
   "execution_count": null,
   "metadata": {},
   "outputs": [],
   "source": [
    "# Auxiliary function for d_one risk-adjusted probability\n",
    "def d11(S, X, T, r, sigma):\n",
    "    return (np.log(S/X) + (r + 0.5 * sigma**2)*T) / (sigma * np.sqrt(T))\n",
    "\n",
    "# Auxiliary function for d_two risk-adjusted probability    \n",
    "def d21(d1, T, sigma):\n",
    "    return d1 - sigma * np.sqrt(T)"
   ]
  },
  {
   "cell_type": "markdown",
   "metadata": {},
   "source": [
    "### Definition of the Black-Scholes European option pricing formula"
   ]
  },
  {
   "cell_type": "code",
   "execution_count": null,
   "metadata": {},
   "outputs": [],
   "source": [
    "    \n",
    "def black_scholes(S, X, T, r, sigma, option_type):\n",
    "    \"\"\"Price a European option using the Black-Scholes option pricing formula.\n",
    "    \n",
    "    Arguments:\n",
    "    S           -- the current spot price of the underlying stock\n",
    "    X           -- the option strike price\n",
    "    T           -- the time until maturity (in fractions of a year)\n",
    "    r           -- the risk-free interest rate \n",
    "    sigma       -- the returns volatility of the underlying stock\n",
    "    option_type -- the option type, either 'call' or 'put'\n",
    "    \n",
    "    Returns: a numpy.float_ representing the option value\n",
    "    \"\"\"\n",
    "    d_one = d11(S, X, T, r, sigma)\n",
    "    d_two = d21(d_one, T, sigma)\n",
    "    if option_type == 'call':\n",
    "        return S * norm.cdf(d_one) - np.exp(-r * T) * X * norm.cdf(d_two)\n",
    "    elif option_type == 'put':\n",
    "        return -(S * norm.cdf(-d_one) - np.exp(-r * T) * X * norm.cdf(-d_two))\n",
    "    else:\n",
    "        # Raise an error if the option_type is neither a call nor a put\n",
    "        \n",
    "        raise ValueError(\"Option type is either 'call' or 'put'.\")"
   ]
  },
  {
   "cell_type": "markdown",
   "metadata": {},
   "source": [
    "### Example"
   ]
  },
  {
   "cell_type": "code",
   "execution_count": null,
   "metadata": {},
   "outputs": [],
   "source": [
    "S = 110\n",
    "X = 100\n",
    "r = 0.05\n",
    "T = 0.5\n",
    "sigma = np.arange(0.05, 0.61, 0.05)\n",
    "\n",
    "V = black_scholes(S, X, T, r, sigma, 'call')\n",
    "df = pd.DataFrame({'Sigma':sigma, 'Call prices':V })\n",
    "\n",
    "df.plot('Sigma', 'Call prices', kind = 'scatter', color = 'blue')"
   ]
  },
  {
   "cell_type": "code",
   "execution_count": null,
   "metadata": {},
   "outputs": [],
   "source": [
    "S = np.arange(50, 151, 2)\n",
    "X = 100\n",
    "r = 0.05\n",
    "T = 1\n",
    "sigma = 0.1\n",
    "\n",
    "V = black_scholes(S, X, T, r, sigma, 'call')\n",
    "df = pd.DataFrame({'Stock price':S, 'Call prices':V })\n",
    "\n",
    "df.plot('Stock price', 'Call prices', kind = 'scatter', color = 'red')"
   ]
  },
  {
   "cell_type": "code",
   "execution_count": null,
   "metadata": {},
   "outputs": [],
   "source": [
    "S = 110\n",
    "X = 100\n",
    "r = 0.05\n",
    "T = np.arange(0.1, 1.6, 0.1)\n",
    "sigma = 0.25\n",
    "\n",
    "V = black_scholes(S, X, T, r, sigma, 'call')\n",
    "df = pd.DataFrame({'T':T, 'Call prices':V })\n",
    "\n",
    "df.plot('T', 'Call prices', kind = 'scatter', color = 'green')"
   ]
  },
  {
   "cell_type": "markdown",
   "metadata": {},
   "source": [
    "## The Greeks"
   ]
  },
  {
   "cell_type": "markdown",
   "metadata": {},
   "source": [
    "### Delta - Sensitivity of Option price w.r.t change in stock price (S)\n",
    "\n",
    "* Call :\n",
    "\n",
    "\\begin{equation}\n",
    "\\frac{\\partial V}{\\partial S} = N\\left(d_{1}\\right)\n",
    "\\end{equation}\n",
    "\n",
    "* Put :\n",
    "\n",
    "\\begin{equation}\n",
    "\\frac{\\partial V}{\\partial S} = -N\\left(-d_{1}\\right)=N\\left(d_{1}\\right)-1\n",
    "\\end{equation}"
   ]
  },
  {
   "cell_type": "code",
   "execution_count": null,
   "metadata": {},
   "outputs": [],
   "source": [
    "    \n",
    "def bs_delta(S, X, T, r, sigma, option_type):\n",
    "\n",
    "    if option_type == 'call':\n",
    "        return norm.cdf(d11(S, X, T, r, sigma))\n",
    "    elif option_type == 'put':\n",
    "        return -norm.cdf(-d11(S, X, T, r, sigma))\n",
    "    else:\n",
    "        # Raise an error if the option_type is neither a call nor a put\n",
    "        raise ValueError(\"Option type is either 'call' or 'put'.\")"
   ]
  },
  {
   "cell_type": "code",
   "execution_count": null,
   "metadata": {},
   "outputs": [],
   "source": [
    "S = np.arange(10, 200, 3)\n",
    "X = 100\n",
    "r = 0.05\n",
    "T = 0.5\n",
    "sigma = 0.25\n",
    "\n",
    "delta_call = bs_delta(S, X, T, r, sigma, 'call')\n",
    "delta_put = bs_delta(S, X, T, r, sigma, 'put')\n",
    "\n",
    "df = pd.DataFrame({'S':S, 'delta_call':delta_call, 'delta_put':delta_put })\n",
    "#print(df)\n",
    "\n",
    "\n",
    "\n",
    "ax = df.plot('S', 'delta_call', kind = 'scatter', color = 'green', label = 'call delta')\n",
    "df.plot('S', 'delta_put', kind = 'scatter', color = 'red', label = 'put delta', ax=ax)\n",
    "ax.set(xlabel = 'stock price', ylabel = 'delta', title = 'Delta for European Call & Put Option')"
   ]
  },
  {
   "cell_type": "code",
   "execution_count": null,
   "metadata": {},
   "outputs": [],
   "source": [
    "S = np.arange(10, 200, 1)\n",
    "X = 100\n",
    "r = 0.05\n",
    "T = np.array([0.05, 0.25, 0.5])\n",
    "sigma = 0.25\n",
    "\n",
    "delta_call_t1 = bs_delta(S, X, T[0], r, sigma, 'call')\n",
    "delta_call_t2 = bs_delta(S, X, T[1], r, sigma, 'call')\n",
    "delta_call_t3 = bs_delta(S, X, T[2], r, sigma, 'call')\n",
    "\n",
    "df = pd.DataFrame({'S':S, 'T1':delta_call_t1, 'T2':delta_call_t2, 'T3':delta_call_t3})\n",
    "\n",
    "ax = df.plot('S', 'T1', kind = 'line', color = 'green', label = 'T = 0.05')\n",
    "df.plot('S', 'T2', kind = 'line', color = 'red', label = 'T = 0.25', ax=ax)\n",
    "df.plot('S', 'T3', kind = 'line', color = 'blue', label = 'T = 0.5', ax=ax)\n",
    "ax.set(xlabel = 'stock price', ylabel = 'delta', title = 'Delta for European Call & Put Option')"
   ]
  },
  {
   "cell_type": "code",
   "execution_count": null,
   "metadata": {},
   "outputs": [],
   "source": [
    "S = 110\n",
    "X = [S*0.9, S, S*1.1]\n",
    "r = 0.05\n",
    "T = np.arange(1.0, 0, -0.005)\n",
    "sigma = 0.25\n",
    "\n",
    "delta_call_X1 = bs_delta(S, X[0], T, r, sigma, 'call')\n",
    "delta_call_X2 = bs_delta(S, X[1], T, r, sigma, 'call')\n",
    "delta_call_X3 = bs_delta(S, X[2], T, r, sigma, 'call')\n",
    "\n",
    "df = pd.DataFrame({'T':T, 'X1':delta_call_X1, 'X2':delta_call_X2, 'X3':delta_call_X3})\n",
    "\n",
    "fig, ax = plt.subplots()\n",
    "ax = df.plot('T', 'X1', kind = 'line', color = 'green', label = 'K = S*0.9', ax = ax)\n",
    "df.plot('T', 'X2', kind = 'line', color = 'red', label = 'K = S', ax=ax)\n",
    "df.plot('T', 'X3', kind = 'line', color = 'blue', label = 'K = S*1.1', ax=ax)\n",
    "ax.set_xlim(T[0], T[-1])\n",
    "ax.set(xlabel = 'Time-to-Maturity', ylabel = 'delta', title = 'Delta for European Call & Put Option as a function of Time-to-Maturity')"
   ]
  },
  {
   "cell_type": "markdown",
   "metadata": {},
   "source": [
    "### Gamma - Sensitivity of Delta w.r.t change in Stock price (S)\n",
    "\n",
    "For Both Call and Put Option:\n",
    "\n",
    "$$\n",
    "\\frac{\\partial^{2} V}{\\partial S^{2}} = \n",
    "\\frac{N^{\\prime}\\left(d_{1}\\right)}{S \\sigma \\sqrt{T-t}}\n",
    "$$"
   ]
  },
  {
   "cell_type": "code",
   "execution_count": null,
   "metadata": {},
   "outputs": [],
   "source": [
    "def bs_gamma(S, X, T, r, sigma, option_type):\n",
    " \n",
    "    if option_type == 'call':\n",
    "        return norm.pdf(d11(S, X, T, r, sigma))/(S*sigma*T)\n",
    "    elif option_type == 'put':\n",
    "        return norm.pdf(d11(S, X, T, r, sigma))/(S*sigma*T)\n",
    "    else:\n",
    "        # Raise an error if the option_type is neither a call nor a put\n",
    "        raise ValueError(\"Option type is either 'call' or 'put'.\")"
   ]
  },
  {
   "cell_type": "code",
   "execution_count": null,
   "metadata": {},
   "outputs": [],
   "source": [
    "S = np.arange(10, 200, 1)\n",
    "X = 100\n",
    "r = 0.05\n",
    "T = np.array([0.05, 0.25, 0.5])\n",
    "sigma = 0.25\n",
    "\n",
    "gamma_call_t1 = bs_gamma(S, X, T[0], r, sigma, 'call')\n",
    "gamma_call_t2 = bs_gamma(S, X, T[1], r, sigma, 'call')\n",
    "gamma_call_t3 = bs_gamma(S, X, T[2], r, sigma, 'call')\n",
    "\n",
    "df = pd.DataFrame({'S':S, 'T1':gamma_call_t1, 'T2':gamma_call_t2, 'T3':gamma_call_t3})\n",
    "\n",
    "\n",
    "ax = df.plot('S', 'T1', kind = 'line', color = 'green', label = 'T = 0.05')\n",
    "df.plot('S', 'T2', kind = 'line', color = 'red', label = 'T = 0.25', ax=ax)\n",
    "df.plot('S', 'T3', kind = 'line', color = 'blue', label = 'T = 0.5', ax=ax)\n",
    "ax.set(xlabel = 'stock price', ylabel = 'gamma', title = 'Gamma for European Call Options as Time-to-Maturity varies')"
   ]
  },
  {
   "cell_type": "code",
   "execution_count": null,
   "metadata": {},
   "outputs": [],
   "source": [
    "S = 110\n",
    "X = [S*0.8, S*0.9, S]\n",
    "r = 0.05\n",
    "T = np.arange(0.3, 0, -0.005)\n",
    "sigma = 0.5\n",
    "\n",
    "gamma_call_X1 = bs_gamma(S, X[0], T, r, sigma, 'call')\n",
    "gamma_call_X2 = bs_gamma(S, X[1], T, r, sigma, 'call')\n",
    "gamma_call_X3 = bs_gamma(S, X[2], T, r, sigma, 'call')\n",
    "\n",
    "df = pd.DataFrame({'T':T, 'X1':gamma_call_X1, 'X2':gamma_call_X2, 'X3':gamma_call_X3})\n",
    "\n",
    "fig, ax = plt.subplots()\n",
    "ax = df.plot('T', 'X1', kind = 'line', color = 'green', label = 'K = S*0.8', ax = ax)\n",
    "df.plot('T', 'X2', kind = 'line', color = 'red', label = 'K = S*0.9', ax=ax)\n",
    "df.plot('T', 'X3', kind = 'line', color = 'blue', label = 'K = S', ax=ax)\n",
    "ax.set_xlim(T[0], T[-1])\n",
    "ax.set(xlabel = 'Time-to-Maturity', ylabel = 'gamma', title = 'Gamma for European Call & Put Option as a function of Time-to-Maturity')"
   ]
  },
  {
   "cell_type": "markdown",
   "metadata": {},
   "source": [
    "### Vega - Sensitivity of Option price w.r.t change in sigma (Volatility)\n",
    "\n",
    "For Both Call and Put Option:\n",
    "\n",
    "\\begin{equation}\n",
    "S N^{\\prime}\\left(d_{1}\\right) \\sqrt{T-t}\n",
    "\\end{equation}"
   ]
  },
  {
   "cell_type": "code",
   "execution_count": null,
   "metadata": {},
   "outputs": [],
   "source": [
    "def bs_vega(S, X, T, r, sigma, option_type):\n",
    "  \n",
    "    if option_type == 'call':\n",
    "        return norm.pdf(d11(S, X, T, r, sigma)) * S*T\n",
    "    elif option_type == 'put':\n",
    "        return norm.pdf(d11(S, X, T, r, sigma)) * S*T\n",
    "    else:\n",
    "        # Raise an error if the option_type is neither a call nor a put\n",
    "        raise ValueError(\"Option type is either 'call' or 'put'.\")"
   ]
  },
  {
   "cell_type": "code",
   "execution_count": null,
   "metadata": {},
   "outputs": [],
   "source": [
    "S = np.arange(10, 200, 1)\n",
    "X = 100\n",
    "r = 0.05\n",
    "T = np.array([0.05, 0.25, 0.5])\n",
    "sigma = 0.25\n",
    "\n",
    "vega_call_t1 = bs_vega(S, X, T[0], r, sigma, 'call')\n",
    "vega_call_t2 = bs_vega(S, X, T[1], r, sigma, 'call')\n",
    "vega_call_t3 = bs_vega(S, X, T[2], r, sigma, 'call')\n",
    "\n",
    "df = pd.DataFrame({'S':S, 'T1':vega_call_t1, 'T2':vega_call_t2, 'T3':vega_call_t3})\n",
    "\n",
    "fig, ax = plt.subplots()\n",
    "ax = df.plot('S', 'T1', kind = 'line', color = 'green', label = 'T = 0.05', ax = ax)\n",
    "df.plot('S', 'T2', kind = 'line', color = 'red', label = 'T = 0.25', ax=ax)\n",
    "df.plot('S', 'T3', kind = 'line', color = 'blue', label = 'T = 0.5', ax=ax)\n",
    "ax.set(xlabel = 'stock price', ylabel = 'vega', title = 'Vega for European Call Options as Time-to-Maturity varies')"
   ]
  },
  {
   "cell_type": "code",
   "execution_count": null,
   "metadata": {},
   "outputs": [],
   "source": [
    "S = 110\n",
    "X = [S*0.8, S*0.9, S]\n",
    "r = 0.05\n",
    "T = np.arange(1.0, 0, -0.005)\n",
    "sigma = 0.25\n",
    "\n",
    "vega_call_X1 = bs_vega(S, X[0], T, r, sigma, 'call')\n",
    "vega_call_X2 = bs_vega(S, X[1], T, r, sigma, 'call')\n",
    "vega_call_X3 = bs_vega(S, X[2], T, r, sigma, 'call')\n",
    "\n",
    "df = pd.DataFrame({'T':T, 'X1':vega_call_X1, 'X2':vega_call_X2, 'X3':vega_call_X3})\n",
    "\n",
    "fig, ax = plt.subplots()\n",
    "ax = df.plot('T', 'X1', kind = 'line', color = 'green', label = 'K = S*0.8', ax = ax)\n",
    "df.plot('T', 'X2', kind = 'line', color = 'red', label = 'K = S*0.9', ax=ax)\n",
    "df.plot('T', 'X3', kind = 'line', color = 'blue', label = 'K = S', ax=ax)\n",
    "ax.set_xlim(T[0], T[-1])\n",
    "ax.set(xlabel = 'Time-to-Maturity', ylabel = 'vega', title = 'Vega for European Call & Put Option as a function of Time-to-Maturity')"
   ]
  },
  {
   "cell_type": "markdown",
   "metadata": {},
   "source": [
    "### Theta - Sensitivity of Option price w.r.t change in Time-to-Maturity (T)\n",
    "\n",
    "* Call : \n",
    "$$\n",
    "-\\frac{S N^{\\prime}\\left(d_{1}\\right) \\sigma}{2 \\sqrt{T-t}}-r K e^{-r(T-t)} N\\left(d_{2}\\right)\n",
    "$$\n",
    "\n",
    "* Put : \n",
    "$$\n",
    "\\frac{S N^{\\prime}\\left(d_{1}\\right) \\sigma}{2 \\sqrt{T-t}}+r K e^{-r(T-t)} N\\left(-d_{2}\\right)\n",
    "$$"
   ]
  },
  {
   "cell_type": "code",
   "execution_count": null,
   "metadata": {},
   "outputs": [],
   "source": [
    "def bs_theta(S, X, T, r, sigma, option_type):\n",
    "  \n",
    "    if option_type == 'call':\n",
    "        return -norm.pdf(d11(S, X, T, r, sigma)) * S*sigma/(2*np.sqrt(T)) - r*X*np.exp(-r*T*norm.cdf(d21(d11(S, X, T, r, sigma), T, sigma)))\n",
    "    elif option_type == 'put':\n",
    "        return norm.pdf(d11(S, X, T, r, sigma)) * S*sigma/(2*np.sqrt(T)) + r*X*np.exp(-r*T*norm.cdf(-d21(d11(S, X, T, r, sigma), T, sigma)))\n",
    "    else:\n",
    "        # Raise an error if the option_type is neither a call nor a put\n",
    "        raise ValueError(\"Option type is either 'call' or 'put'.\")"
   ]
  },
  {
   "cell_type": "code",
   "execution_count": null,
   "metadata": {},
   "outputs": [],
   "source": [
    "S = np.arange(10,200, 1)\n",
    "X = 100\n",
    "r = 0.05\n",
    "T = np.array([0.05, 0.25, 0.5])\n",
    "sigma = 0.25\n",
    "\n",
    "theta_call_t1 = bs_theta(S, X, T[0], r, sigma, 'call')\n",
    "theta_call_t2 = bs_theta(S, X, T[1], r, sigma, 'call')\n",
    "theta_call_t3 = bs_theta(S, X, T[2], r, sigma, 'call')\n",
    "\n",
    "df = pd.DataFrame({'S':S, 'T1':theta_call_t1, 'T2':theta_call_t2, 'T3':theta_call_t3})\n",
    "\n",
    "fig, ax = plt.subplots()\n",
    "ax = df.plot('S', 'T1', kind = 'line', color = 'green', label = 'T = 0.05', ax = ax)\n",
    "df.plot('S', 'T2', kind = 'line', color = 'red', label = 'T = 0.25', ax=ax)\n",
    "df.plot('S', 'T3', kind = 'line', color = 'blue', label = 'T = 0.5', ax=ax)\n",
    "ax.set(xlabel = 'stock price', ylabel = 'theta', title = 'Theta for European Call Options as Time-to-Maturity varies')"
   ]
  },
  {
   "cell_type": "code",
   "execution_count": null,
   "metadata": {},
   "outputs": [],
   "source": [
    "S = 110\n",
    "X = [S*0.8, S*0.9, S]\n",
    "r = 0.05\n",
    "T = np.arange(1.0, 0, -0.005)\n",
    "sigma = 0.25\n",
    "\n",
    "theta_call_X1 = bs_theta(S, X[0], T, r, sigma, 'call')\n",
    "theta_call_X2 = bs_theta(S, X[1], T, r, sigma, 'call')\n",
    "theta_call_X3 = bs_theta(S, X[2], T, r, sigma, 'call')\n",
    "\n",
    "df = pd.DataFrame({'T':T, 'X1':theta_call_X1, 'X2':theta_call_X2, 'X3':theta_call_X3})\n",
    "\n",
    "fig, ax = plt.subplots()\n",
    "ax = df.plot('T', 'X1', kind = 'line', color = 'green', label = 'K = S*0.8', ax = ax)\n",
    "df.plot('T', 'X2', kind = 'line', color = 'red', label = 'K = S*0.9', ax=ax)\n",
    "df.plot('T', 'X3', kind = 'line', color = 'blue', label = 'K = S', ax=ax)\n",
    "ax.set_xlim(T[0], T[-1])\n",
    "ax.set(xlabel = 'Time-to-Maturity', ylabel = 'theta', title = 'Theta for European Call & Put Option as a function of Time-to-Maturity')"
   ]
  },
  {
   "cell_type": "code",
   "execution_count": null,
   "metadata": {},
   "outputs": [],
   "source": []
  }
 ],
 "metadata": {
  "kernelspec": {
   "display_name": "Python 3",
   "language": "python",
   "name": "python3"
  },
  "language_info": {
   "codemirror_mode": {
    "name": "ipython",
    "version": 3
   },
   "file_extension": ".py",
   "mimetype": "text/x-python",
   "name": "python",
   "nbconvert_exporter": "python",
   "pygments_lexer": "ipython3",
   "version": "3.7.7"
  }
 },
 "nbformat": 4,
 "nbformat_minor": 4
}
